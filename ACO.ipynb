{
  "nbformat": 4,
  "nbformat_minor": 0,
  "metadata": {
    "colab": {
      "provenance": []
    },
    "kernelspec": {
      "name": "python3",
      "display_name": "Python 3"
    },
    "language_info": {
      "name": "python"
    }
  },
  "cells": [
    {
      "cell_type": "code",
      "source": [
        "import numpy as np\n",
        "import random"
      ],
      "metadata": {
        "id": "naPWQQRW_cgA"
      },
      "execution_count": 6,
      "outputs": []
    },
    {
      "cell_type": "code",
      "source": [
        "\n",
        "def distance(city1, city2):\n",
        "    return np.linalg.norm(city1 - city2)\n",
        "\n",
        "def total_distance(path):\n",
        "    return sum([distance(path[i], path[i+1]) for i in range(len(path)-1)]) + distance(path[0], path[-1])\n",
        "\n",
        "def initialize_pheromone_matrix(num_cities):\n",
        "    return np.ones((num_cities, num_cities))\n",
        "\n",
        "def initialize_ant_positions(num_ants, num_cities):\n",
        "    positions = []\n",
        "    for i in range(num_ants):\n",
        "        positions.append(np.random.permutation(num_cities))\n",
        "    return positions\n",
        "\n",
        "def update_pheromone_matrix(pheromone_matrix, ant_positions, decay_rate=0.5):\n",
        "    pheromone_matrix *= (1 - decay_rate)\n",
        "    for path in ant_positions:\n",
        "        for i in range(len(path)-1):\n",
        "            pheromone_matrix[path[i], path[i+1]] += 1\n",
        "        pheromone_matrix[path[-1], path[0]] += 1\n",
        "\n",
        "def select_next_city(ant_position, pheromone_matrix, alpha=1.0, beta=3.0):\n",
        "    current_city = ant_position[-1]\n",
        "    unvisited_cities = list(set(range(pheromone_matrix.shape[0])) - set(ant_position))\n",
        "    if len(unvisited_cities) == 0:\n",
        "        return None\n",
        "    probabilities = []\n",
        "    for city in unvisited_cities:\n",
        "        pheromone = pheromone_matrix[current_city, city]\n",
        "        distance_to_city = distance(cities[current_city], cities[city])\n",
        "        probability = pheromone**alpha * (1/distance_to_city)**beta\n",
        "        probabilities.append(probability)\n",
        "    probabilities = np.array(probabilities)\n",
        "    probabilities /= probabilities.sum()\n",
        "    next_city = np.random.choice(unvisited_cities, p=probabilities)\n",
        "    return next_city\n",
        "\n",
        "def run_aco_tsp(num_cities=10, num_ants=30, num_iterations=1000):\n",
        "    \n",
        "    # Initializing parameters\n",
        "    decay_rate = 0.5 # rate at which pheromones evaporate\n",
        "    alpha = 1.0 # importance of pheromones\n",
        "    beta = 3.0 # importance of distance between cities\n",
        "    \n",
        "    # Initializing variables\n",
        "    best_path = None\n",
        "    best_fitness = float('inf')\n",
        "    \n",
        "    # Initializing pheromone matrix and ant positions\n",
        "    pheromone_matrix = initialize_pheromone_matrix(num_cities)\n",
        "    ant_positions = initialize_ant_positions(num_ants, num_cities)\n",
        "    \n",
        "    # Running iterations of ACO algorithm\n",
        "    for iteration in range(num_iterations):\n",
        "        \n",
        "        # Updating pheromone matrix with ant positions\n",
        "        update_pheromone_matrix(pheromone_matrix, ant_positions, decay_rate)\n",
        "        \n",
        "        # Finding best path so far and its fitness value\n",
        "        for path in ant_positions:\n",
        "            fitness = total_distance(path)\n",
        "            if fitness < best_fitness:\n",
        "                best_path = path.copy()\n",
        "                best_fitness = fitness\n",
        "        \n",
        "        # Updating ant positions with new paths\n",
        "        new_ant_positions = []\n",
        "        for i in range(num_ants):\n",
        "            ant_position = ant_positions[i]\n",
        "            next_city = select_next_city(ant_position, pheromone_matrix, alpha, beta)\n",
        "            if next_city is None:\n",
        "                new_ant_positions.append(np.random.permutation(num_cities))\n",
        "            else:\n",
        "                new_ant_position = np.concatenate((ant_position, [next_city]))\n",
        "                new_ant_positions.append(new_ant_position)\n",
        "        ant_positions = new_ant_positions\n",
        "    \n",
        "    return best_path\n",
        "\n",
        "# Example usage of ACO algorithm on TSP problem with 10 cities\n",
        "cities = np.random.rand(10, 2)\n",
        "best_path = run_aco_tsp(num_cities=10)\n",
        "\n",
        "print('Best path found:', best_path)\n",
        "print('Fitness value:', total_distance(best_path))\n"
      ],
      "metadata": {
        "colab": {
          "base_uri": "https://localhost:8080/"
        },
        "id": "BuQFJ1XaAOFE",
        "outputId": "3a20e798-e68d-4328-fb3b-252bf828671c"
      },
      "execution_count": 7,
      "outputs": [
        {
          "output_type": "stream",
          "name": "stdout",
          "text": [
            "Best path found: [5 6 8 9 7 4 2 0 1 3]\n",
            "Fitness value: 18.0\n"
          ]
        }
      ]
    }
  ]
}